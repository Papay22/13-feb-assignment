{
 "cells": [
  {
   "cell_type": "code",
   "execution_count": null,
   "id": "fb9ba7fe-935a-4622-9b23-2fa915f18e18",
   "metadata": {},
   "outputs": [],
   "source": [
    "The Exception class is the parent class of all the exception classes. It provides a base class for creating custom exceptions. It provides a common structure for all the exception classes and helps in catching and handling exceptions in a uniform manner. It also provides methods to print out the stack trace and get the message associated with the exception.\n",
    "The Exception class is the parent class of all the exception classes. It provides a base class for creating custom exceptions. It provides a common structure for all the exception classes and helps in catching and handling exceptions in a uniform manner. It also provides methods to print out the stack trace and get the message associated with the exception."
   ]
  },
  {
   "cell_type": "code",
   "execution_count": null,
   "id": "44bd4dce-04e5-41d4-aab9-18c49eec8b8b",
   "metadata": {},
   "outputs": [],
   "source": [
    "try:\n",
    "\n",
    "code\n",
    "except Exception as e:\n",
    "\n",
    "print(\"Exception Hierarchy:\")\n",
    "\n",
    "print(e.class.name)\n",
    "\n",
    "print(e.class.__bases__0.name)\n",
    "\n",
    "print(e.class.__bases__0.__bases__0.name)\n",
    "\n",
    "print(e.class.__bases__0.__bases__0.__bases__0.name)"
   ]
  },
  {
   "cell_type": "code",
   "execution_count": null,
   "id": "00ed1394-208c-406a-91c5-ed2a22706607",
   "metadata": {},
   "outputs": [],
   "source": [
    "The ArithmeticError class defines errors related to arithmetic operations.\n",
    "\n",
    "\n",
    "Two examples of errors defined in the ArithmeticError class are:\n",
    "\n",
    "\n",
    "OverflowError: This error occurs when a calculation produces a result that is too large to be represented. For example, trying to calculate the result of 2^1000 will produce an OverflowError.\n",
    "ZeroDivisionError: This error occurs when attempting to divide by zero. For example, trying to calculate the result of 10/0 will produce a ZeroDivisionError."
   ]
  },
  {
   "cell_type": "code",
   "execution_count": null,
   "id": "f1246fb9-7ea3-4767-9d30-b068f18e5ca6",
   "metadata": {},
   "outputs": [],
   "source": [
    "LookupError is a class used for errors that occur when looking up a value in a data structure. It is the parent class of two other exceptions: KeyError and IndexError.\n",
    "\n",
    "\n",
    "KeyError is an exception raised when a key is not found in a dictionary. For example, if you try to access a dictionary element with a key that does not exist, you will get a KeyError.\n",
    "\n",
    "\n",
    "IndexError is an exception raised when an index is not found in a sequence. For example, if you try to access an element in a list with an index that does not exist, you will get an IndexError."
   ]
  },
  {
   "cell_type": "code",
   "execution_count": null,
   "id": "7ba05be9-f73c-4510-968f-63876647c20b",
   "metadata": {},
   "outputs": [],
   "source": [
    "ImportError is an exception raised when a module or its attribute cannot be imported. This can occur when the module is not found, the module does not have the correct name, or the module does not have the expected attributes.\n",
    "\n",
    "\n",
    "ModuleNotFoundError is an exception raised when a module cannot be imported, usually due to it not being installed or not being in the correct location. This can occur when the module is not found, the module does not have the correct name, or the module does not have the expected attributes."
   ]
  },
  {
   "cell_type": "code",
   "execution_count": null,
   "id": "877c350e-98c7-4bbe-940d-f9a1657f6ff0",
   "metadata": {},
   "outputs": [],
   "source": [
    "ImportError is an exception raised when a module or its attribute cannot be imported. This can occur when the module is not found, the module does not have the correct name, or the module does not have the expected attributes.\n",
    "\n",
    "\n",
    "ModuleNotFoundError is an exception raised when a module cannot be imported, usually due to it not being installed or not being in the correct location. This can occur when the module is not found, the module does not have the correct name, or the module does not have the expected attributes."
   ]
  }
 ],
 "metadata": {
  "kernelspec": {
   "display_name": "Python 3 (ipykernel)",
   "language": "python",
   "name": "python3"
  },
  "language_info": {
   "codemirror_mode": {
    "name": "ipython",
    "version": 3
   },
   "file_extension": ".py",
   "mimetype": "text/x-python",
   "name": "python",
   "nbconvert_exporter": "python",
   "pygments_lexer": "ipython3",
   "version": "3.10.8"
  }
 },
 "nbformat": 4,
 "nbformat_minor": 5
}
